{
 "cells": [
  {
   "cell_type": "code",
   "execution_count": 3,
   "metadata": {},
   "outputs": [
    {
     "name": "stdout",
     "output_type": "stream",
     "text": [
      "AUD : 1.1\n",
      "-----------------------------------------------------\n",
      "CAD : 0.98\n",
      "-----------------------------------------------------\n",
      "EUR : 0.67\n",
      "-----------------------------------------------------\n",
      "USD : 0.72\n",
      "-----------------------------------------------------\n",
      "-+-+-+-+-+-+-+-+-+-+-+-+-+-+-+-+-+-+-+-+-+-+-+-+-+-+-+-+\n"
     ]
    }
   ],
   "source": [
    "import requests\n",
    "\n",
    "API_KEY = 'fca_live_pJghz4NFDjreJVdrI2wOAZnz2KfkGzE4ORCXk7vv'\n",
    "BASE_URL = f'https://api.freecurrencyapi.com/v1/latest?apikey={API_KEY}'\n",
    "\n",
    "CURRENCIES = [\"EUR\",\"CAD\",\"USD\",\"AUD\",\"INR\"]\n",
    "\n",
    "def convert_currency(base):\n",
    "    currnecies = \",\".join(CURRENCIES)   # => USD,CAD,EUR...\n",
    "    url = f\"{BASE_URL}&base_currency={base}&currencies={currnecies}\"\n",
    "\n",
    "    try:\n",
    "        response = requests.get(url)\n",
    "        data = response.json()  \n",
    "        return data[\"data\"]\n",
    "    except :    \n",
    "        print(\"Invalid Currency\")\n",
    "        return None\n",
    "\n",
    "while True:\n",
    "    base = input(\"Enter the base currency (q to quit): \").upper() \n",
    "    if base == \"Q\":\n",
    "        break\n",
    "    \n",
    "    data = convert_currency(base)\n",
    "    if not data:\n",
    "        continue \n",
    "    rate = int(input(\"Enter the how much u want to convert :\")) \n",
    "    \n",
    "    del data[base]\n",
    "    for ticker, value in data.items():\n",
    "        finalValue = round((value * rate),2)\n",
    "\n",
    "        print(f\"{ticker} : {finalValue}\")\n",
    "        print(\"-----------------------------------------------------\")\n",
    "\n",
    "    print(\"-----------------------------------------------------\")   "
   ]
  }
 ],
 "metadata": {
  "kernelspec": {
   "display_name": "Python 3",
   "language": "python",
   "name": "python3"
  },
  "language_info": {
   "codemirror_mode": {
    "name": "ipython",
    "version": 3
   },
   "file_extension": ".py",
   "mimetype": "text/x-python",
   "name": "python",
   "nbconvert_exporter": "python",
   "pygments_lexer": "ipython3",
   "version": "3.12.2"
  }
 },
 "nbformat": 4,
 "nbformat_minor": 2
}
